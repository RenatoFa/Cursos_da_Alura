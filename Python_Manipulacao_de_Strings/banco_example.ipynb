{
 "metadata": {
  "language_info": {
   "codemirror_mode": {
    "name": "ipython",
    "version": 3
   },
   "file_extension": ".py",
   "mimetype": "text/x-python",
   "name": "python",
   "nbconvert_exporter": "python",
   "pygments_lexer": "ipython3",
   "version": "3.9.4"
  },
  "orig_nbformat": 2,
  "kernelspec": {
   "name": "python394jvsc74a57bd07812ea015bdcee6f23a998adcdd2ef97c151c0c241b7b7070987d9313e41299d",
   "display_name": "Python 3.9.4 64-bit"
  },
  "metadata": {
   "interpreter": {
    "hash": "7812ea015bdcee6f23a998adcdd2ef97c151c0c241b7b7070987d9313e41299d"
   }
  }
 },
 "nbformat": 4,
 "nbformat_minor": 2,
 "cells": [
  {
   "cell_type": "code",
   "execution_count": 1,
   "metadata": {},
   "outputs": [
    {
     "output_type": "stream",
     "name": "stdout",
     "text": [
      "idade é 26\n"
     ]
    }
   ],
   "source": [
    "# Slice Python (Fatiamento de string)\n",
    "sobreMim = \"Meu nome é Rodrigo e minha idade é 26\"\n",
    "meuNome = 'Rodrigo'\n",
    "subString = sobreMim[27:]\n",
    "print(subString)"
   ]
  },
  {
   "source": [
    "# Slice\n",
    "argumento = \"https://www.bytebank.com.br/cambio?moedaorigem=real\"\n",
    "subString = argumento[5:11]\n",
    "print(subString)"
   ],
   "cell_type": "code",
   "metadata": {},
   "execution_count": 2,
   "outputs": [
    {
     "output_type": "stream",
     "name": "stdout",
     "text": [
      "://www\n"
     ]
    }
   ]
  },
  {
   "source": [
    "# Método Find e Slice\n",
    "argumento = \"moedaorigem=real\"\n",
    "index = argumento.find(\"=\")\n",
    "subString = argumento[index+1:]\n",
    "print(subString)"
   ],
   "cell_type": "code",
   "metadata": {},
   "execution_count": 3,
   "outputs": [
    {
     "output_type": "stream",
     "name": "stdout",
     "text": [
      "real\n"
     ]
    }
   ]
  },
  {
   "cell_type": "code",
   "execution_count": 4,
   "metadata": {},
   "outputs": [
    {
     "output_type": "stream",
     "name": "stdout",
     "text": [
      "['moedaorigem', 'real']\n"
     ]
    }
   ],
   "source": [
    "# Metodo Split para fatiamento de string usado '='\n",
    "listaargumentos = argumento.split(\"=\")\n",
    "print(listaargumentos)"
   ]
  },
  {
   "cell_type": "code",
   "execution_count": 5,
   "metadata": {},
   "outputs": [
    {
     "output_type": "stream",
     "name": "stdout",
     "text": [
      "pagina argumentos\n"
     ]
    }
   ],
   "source": [
    "# Exemplo do Metodo Split e Find\n",
    "url = \"pagina?argumentos\"\n",
    "indice = url.find(\"?\")\n",
    "print(url[0:indice],url[indice + 1:] )"
   ]
  },
  {
   "cell_type": "code",
   "execution_count": 6,
   "metadata": {},
   "outputs": [
    {
     "output_type": "stream",
     "name": "stdout",
     "text": [
      "True\n"
     ]
    }
   ],
   "source": [
    "#  Verifica uma url valida\n",
    "from banco_example import ExtratorArgumentosUrl\n",
    "\n",
    "url = \"https: //bytebank.com/cambio?moedaorigem=real&0moedadestino=dolar&valor=700\"\n",
    "print(ExtratorArgumentosUrl.urlEhValida(url))\n"
   ]
  },
  {
   "cell_type": "code",
   "execution_count": 7,
   "metadata": {},
   "outputs": [
    {
     "output_type": "stream",
     "name": "stdout",
     "text": [
      "real\ndolar\n"
     ]
    }
   ],
   "source": [
    "# Cria um find para extrair os argumentos desejados\n",
    "url = \"https://bytebank.com/cambio?moedaorigem=real&0moedadestino=dolar&valor=700\"\n",
    "argumentosUrl = ExtratorArgumentosUrl(url)\n",
    "moedaOrigem, moedaDestino = argumentosUrl.extraiArgumentos()\n",
    "print(moedaOrigem)\n",
    "print(moedaDestino)"
   ]
  },
  {
   "cell_type": "code",
   "execution_count": 3,
   "metadata": {},
   "outputs": [
    {
     "output_type": "stream",
     "name": "stdout",
     "text": [
      "rodrigobank\n"
     ]
    }
   ],
   "source": [
    "# Metodo replace no python (substituição de valor)\n",
    "string = \"bytebank\"\n",
    "string_Nova = string.replace('byte','rodrigo',1)\n",
    "print(string_Nova)"
   ]
  },
  {
   "cell_type": "code",
   "execution_count": 6,
   "metadata": {},
   "outputs": [
    {
     "output_type": "stream",
     "name": "stdout",
     "text": [
      "bytebank BYTEBANK bytebank\n"
     ]
    }
   ],
   "source": [
    "#Metodo upper(letra maiúscula) e lower(letra minuscula)\n",
    "banco1 = 'bytebank'\n",
    "banco2 = 'Bytebank'.upper()\n",
    "banco3 = 'BYTEbank'.lower()\n",
    "print(banco1,banco2,banco3)"
   ]
  },
  {
   "cell_type": "code",
   "execution_count": null,
   "metadata": {},
   "outputs": [],
   "source": []
  }
 ]
}