{
 "cells": [
  {
   "cell_type": "code",
   "execution_count": 4,
   "metadata": {},
   "outputs": [
    {
     "name": "stdout",
     "output_type": "stream",
     "text": [
      "fada\n"
     ]
    },
    {
     "data": {
      "text/plain": [
       "100"
      ]
     },
     "execution_count": 4,
     "metadata": {},
     "output_type": "execute_result"
    }
   ],
   "source": [
    "# exemplos de classes no python \n",
    "\n",
    "class Personagem:\n",
    "    def __init__(self,nome,cor,quantidade_de_cogumelos,altura):\n",
    "        self.nome = nome \n",
    "        self.cor = cor\n",
    "        self.quantidade_de_cogumelos = quantidade_de_cogumelos\n",
    "        self.altura = altura\n",
    "\n",
    "    def get_nome(self):\n",
    "        print(self.nome)\n",
    "\n",
    "personagem = Personagem('fada','blue',2, 1.80)\n",
    "personagem.get_nome()\n",
    "\n",
    "class Quadrilatero:\n",
    "    def calcula_area_do_quadrado(self, lado):\n",
    "        return lado*lado\n",
    "    \n",
    "    def calcula_area_do_retangulo(self, baseMaior, baseMenor):\n",
    "        return baseMaior * baseMenor\n",
    "    \n",
    "    def calcula_area_do_trapezio(self, baseMaior, baseMenor, altura):\n",
    "        return (baseMaior*baseMenor * altura)/2\n",
    "    \n",
    "    def calcula_area_do_losango(self, diagonalMaior, diagonalMenor):\n",
    "        return diagonalMaior*diagonalMenor\n",
    "\n",
    "quad = Quadrilatero()\n",
    "\n",
    "quad.calcula_area_do_quadrado(10)\n",
    "quad.calcula_area_do_retangulo(10,10)\n",
    "quad.calcula_area_do_trapezio(10,10,10)\n",
    "quad.calcula_area_do_losango(10,10)"
   ]
  },
  {
   "cell_type": "code",
   "execution_count": 8,
   "metadata": {},
   "outputs": [
    {
     "name": "stdout",
     "output_type": "stream",
     "text": [
      "100\n",
      "100\n",
      "500.0\n",
      "100\n"
     ]
    }
   ],
   "source": [
    "class Quadrilatero:\n",
    "    def calcula_area_do_quadrado(self, lado):\n",
    "        print(lado*lado)\n",
    "    \n",
    "    def calcula_area_do_retangulo(self, base_maior, base_menor):\n",
    "        print(base_maior * base_menor)\n",
    "    \n",
    "    def calcula_area_do_trapezio(self, base_maior, base_menor, altura):\n",
    "        print((base_maior*base_menor * altura)/2)\n",
    "    \n",
    "    def calcula_area_do_losango(self, diagonal_maior, diagonal_menor):\n",
    "        print(diagonal_maior*diagonal_menor)\n",
    "\n",
    "quad = Quadrilatero()\n",
    "\n",
    "quad.calcula_area_do_quadrado(10)\n",
    "quad.calcula_area_do_retangulo(10,10)\n",
    "quad.calcula_area_do_trapezio(10,10,10)\n",
    "quad.calcula_area_do_losango(10,10)"
   ]
  }
 ],
 "metadata": {
  "interpreter": {
   "hash": "aee8b7b246df8f9039afb4144a1f6fd8d2ca17a180786b69acc140d282b71a49"
  },
  "kernelspec": {
   "display_name": "Python 3.9.7 64-bit",
   "name": "python3"
  },
  "language_info": {
   "codemirror_mode": {
    "name": "ipython",
    "version": 3
   },
   "file_extension": ".py",
   "mimetype": "text/x-python",
   "name": "python",
   "nbconvert_exporter": "python",
   "pygments_lexer": "ipython3",
   "version": "3.9.7"
  },
  "orig_nbformat": 4
 },
 "nbformat": 4,
 "nbformat_minor": 2
}
