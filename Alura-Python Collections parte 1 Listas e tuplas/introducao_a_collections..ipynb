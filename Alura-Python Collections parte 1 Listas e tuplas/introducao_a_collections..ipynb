{
 "cells": [
  {
   "cell_type": "code",
   "execution_count": 3,
   "source": [
    "# Listas e Operações\r\n",
    "idade1 = 39\r\n",
    "idade2 = 30\r\n",
    "idade3 = 27\r\n",
    "idade4 = 18\r\n",
    "\r\n",
    "print(idade1)\r\n",
    "print(idade2)\r\n",
    "print(idade3)\r\n",
    "print(idade4)\r\n",
    "\r\n",
    "idades = [39, 30, 27,28]\r\n",
    "type(idades)\r\n",
    "len(idades)\r\n",
    "idades[0]\r\n",
    "\r\n",
    "15 in idades\r\n",
    "\r\n",
    "idades.append(15)\r\n",
    "\r\n",
    "if 15 in idades:\r\n",
    "    idades.remove(15)\r\n",
    "idades"
   ],
   "outputs": [
    {
     "output_type": "stream",
     "name": "stdout",
     "text": [
      "39\n",
      "30\n",
      "27\n",
      "18\n"
     ]
    },
    {
     "output_type": "execute_result",
     "data": {
      "text/plain": [
       "[39, 30, 27, 28]"
      ]
     },
     "metadata": {},
     "execution_count": 3
    }
   ],
   "metadata": {}
  },
  {
   "cell_type": "code",
   "execution_count": 4,
   "source": [
    "def faz_processamento_de_visualizacao(lista):\r\n",
    "    print(len(lista))\r\n",
    "    lista.append(13)\r\n",
    "\r\n",
    "idades = [16, 21, 29, 56, 53]\r\n",
    "faz_processamento_de_visualizacao(idades)\r\n",
    "idades"
   ],
   "outputs": [
    {
     "output_type": "stream",
     "name": "stdout",
     "text": [
      "5\n"
     ]
    },
    {
     "output_type": "execute_result",
     "data": {
      "text/plain": [
       "[16, 21, 29, 56, 53, 13]"
      ]
     },
     "metadata": {},
     "execution_count": 4
    }
   ],
   "metadata": {}
  },
  {
   "cell_type": "code",
   "execution_count": 5,
   "source": [
    "def faz_processamento_de_visualizacao(lista = []):\r\n",
    "    print(len(lista))\r\n",
    "    print(lista)\r\n",
    "    lista.append(13)\r\n",
    "\r\n",
    "faz_processamento_de_visualizacao()\r\n",
    "faz_processamento_de_visualizacao()\r\n",
    "faz_processamento_de_visualizacao()"
   ],
   "outputs": [
    {
     "output_type": "stream",
     "name": "stdout",
     "text": [
      "0\n",
      "[]\n",
      "1\n",
      "[13]\n",
      "2\n",
      "[13, 13]\n"
     ]
    }
   ],
   "metadata": {}
  },
  {
   "cell_type": "code",
   "execution_count": 6,
   "source": [
    "# Objetos próprios\r\n",
    "\r\n",
    "class ContaCorrente:\r\n",
    "    def __init__(self,codigo):\r\n",
    "        self.codigo = codigo\r\n",
    "        self.saldo = 0 \r\n",
    "\r\n",
    "    def deposita(self, valor):\r\n",
    "        self.saldo += valor\r\n",
    "    \r\n",
    "    def __str__(self):\r\n",
    "        return f\"Codigo {self.codigo} Saldo {self.saldo}\""
   ],
   "outputs": [],
   "metadata": {}
  },
  {
   "cell_type": "code",
   "execution_count": 7,
   "source": [
    "conta_do_gui = ContaCorrente(15)\r\n",
    "print(conta_do_gui)\r\n",
    "conta_do_gui.deposita(500)\r\n",
    "print(conta_do_gui)"
   ],
   "outputs": [
    {
     "output_type": "stream",
     "name": "stdout",
     "text": [
      "Codigo 15 Saldo 0\n",
      "Codigo 15 Saldo 500\n"
     ]
    }
   ],
   "metadata": {}
  },
  {
   "cell_type": "code",
   "execution_count": 8,
   "source": [
    "conta_do_dani = ContaCorrente(47685)\r\n",
    "conta_do_dani.deposita(1000)\r\n",
    "print(conta_do_dani)\r\n"
   ],
   "outputs": [
    {
     "output_type": "stream",
     "name": "stdout",
     "text": [
      "Codigo 47685 Saldo 1000\n"
     ]
    }
   ],
   "metadata": {}
  },
  {
   "cell_type": "code",
   "execution_count": 9,
   "source": [
    "contas = [conta_do_gui, conta_do_dani]\r\n",
    "for conta in contas:\r\n",
    "    print(conta)"
   ],
   "outputs": [
    {
     "output_type": "stream",
     "name": "stdout",
     "text": [
      "Codigo 15 Saldo 500\n",
      "Codigo 47685 Saldo 1000\n"
     ]
    }
   ],
   "metadata": {}
  },
  {
   "cell_type": "code",
   "execution_count": 11,
   "source": [
    "contas = [conta_do_gui, conta_do_dani]\r\n",
    "\r\n",
    "def deposita_para_todas(contas):\r\n",
    "    for conta in contas:\r\n",
    "        conta.deposita(100)\r\n",
    "\r\n",
    "print(contas[0], contas[1])\r\n",
    "deposita_para_todas(contas) \r\n",
    "print(contas[0], contas[1])\r\n",
    "\r\n",
    "\r\n",
    "# Um conjunto de valores imutável \r\n",
    "# tupla \r\n",
    "\r\n",
    "guilherme = ('Guilherme', 37, 1981)\r\n",
    "daniela = ('Daniela', 31, 1987)\r\n",
    "\r\n",
    "# paulo = (39, ' Paulo', 1979) # errado\r\n",
    "#  \r\n",
    "conta_do_gui = (15,1000)\r\n",
    "\r\n",
    "# conta_do_gui.deposita() variacao orientada ao objeto\r\n",
    "\r\n",
    "def deposita(conta): # variacao funcional\r\n",
    "    novo_salvo = conta[1] + 100\r\n",
    "    codigo = conta[0]\r\n",
    "    return (codigo, novo_salvo)\r\n",
    "\r\n",
    "deposita(conta_do_gui)"
   ],
   "outputs": [
    {
     "output_type": "stream",
     "name": "stdout",
     "text": [
      "Codigo 15 Saldo 600 Codigo 47685 Saldo 1100\n",
      "Codigo 15 Saldo 700 Codigo 47685 Saldo 1200\n"
     ]
    },
    {
     "output_type": "execute_result",
     "data": {
      "text/plain": [
       "(15, 1100)"
      ]
     },
     "metadata": {},
     "execution_count": 11
    }
   ],
   "metadata": {}
  },
  {
   "cell_type": "code",
   "execution_count": 20,
   "source": [
    "# Tuplas de objetos e lista de tuplas \r\n",
    "\r\n",
    "usuarios = [guilherme, daniela]\r\n",
    "usuarios\r\n",
    "\r\n",
    "usuarios.append(('Paulo', 39, 1979))\r\n",
    "# usuarios[0][0] = 'Guilherme Silveira' erro tuple\r\n",
    "\r\n",
    "conta_do_gui = ContaCorrente(15)\r\n",
    "conta_do_gui.deposita(500)\r\n",
    "conta_do_dani = ContaCorrente(234876)\r\n",
    "conta_do_dani.deposita(1000)\r\n",
    "\r\n",
    "contas = (conta_do_gui, conta_do_dani)\r\n",
    "\r\n",
    "for conta in contas:\r\n",
    "    print(conta)\r\n",
    "\r\n",
    "contas[0].deposita(300)\r\n",
    "\r\n",
    "for conta in contas:\r\n",
    "    print(conta)"
   ],
   "outputs": [
    {
     "output_type": "stream",
     "name": "stdout",
     "text": [
      "Codigo 15 Saldo 500\n",
      "Codigo 234876 Saldo 1000\n",
      "Codigo 15 Saldo 800\n",
      "Codigo 234876 Saldo 1000\n"
     ]
    }
   ],
   "metadata": {}
  },
  {
   "cell_type": "code",
   "execution_count": 34,
   "source": [
    "# Herança e Polimorfismo\r\n",
    "from abc import ABCMeta, abstractclassmethod\r\n",
    "\r\n",
    "class Conta(metaclass = ABCMeta): \r\n",
    "    def __init__(self,codigo):\r\n",
    "        self._codigo = codigo\r\n",
    "        self._saldo = 0\r\n",
    "    \r\n",
    "    def deposita(self, valor):\r\n",
    "        self._saldo += valor\r\n",
    "\r\n",
    "    @abstractclassmethod\r\n",
    "    def passa_o_mes(self):\r\n",
    "        pass\r\n",
    "    \r\n",
    "    def __str__(self):\r\n",
    "        return f\"Codigo {self._codigo} Saldo {self._saldo}\"\r\n",
    "\r\n",
    "class ContaCorrente(Conta):\r\n",
    "    def passa_o_mes(self):\r\n",
    "        self._saldo -= 2\r\n",
    "\r\n",
    "\r\n",
    "class ContaPoupanca(Conta):\r\n",
    "    def passa_o_mes(self):\r\n",
    "        self._saldo *= 1.01\r\n",
    "        self._saldo -= 3\r\n",
    "\r\n",
    "class ContaInvestimento(Conta):\r\n",
    "    pass\r\n",
    "\r\n",
    "conta16 = ContaCorrente(16)\r\n",
    "conta16.deposita(1000)\r\n",
    "conta17 = ContaPoupanca(17)\r\n",
    "conta17.deposita(1000)\r\n",
    "contas = [conta16, conta17]\r\n",
    "\r\n",
    "for conta in contas:\r\n",
    "    conta.passa_o_mes() # duck typing\r\n",
    "    print(conta)\r\n",
    "\r\n",
    "# ContaInvestimento(764)"
   ],
   "outputs": [
    {
     "output_type": "stream",
     "name": "stdout",
     "text": [
      "Codigo 16 Saldo 998\n",
      "Codigo 17 Saldo 1007.0\n"
     ]
    },
    {
     "output_type": "error",
     "ename": "TypeError",
     "evalue": "Can't instantiate abstract class ContaInvestimento with abstract method passa_o_mes",
     "traceback": [
      "\u001b[1;31m---------------------------------------------------------------------------\u001b[0m",
      "\u001b[1;31mTypeError\u001b[0m                                 Traceback (most recent call last)",
      "\u001b[1;32m~\\AppData\\Local\\Temp/ipykernel_6932/3295563273.py\u001b[0m in \u001b[0;36m<module>\u001b[1;34m\u001b[0m\n\u001b[0;32m     40\u001b[0m     \u001b[0mprint\u001b[0m\u001b[1;33m(\u001b[0m\u001b[0mconta\u001b[0m\u001b[1;33m)\u001b[0m\u001b[1;33m\u001b[0m\u001b[1;33m\u001b[0m\u001b[0m\n\u001b[0;32m     41\u001b[0m \u001b[1;33m\u001b[0m\u001b[0m\n\u001b[1;32m---> 42\u001b[1;33m \u001b[0mContaInvestimento\u001b[0m\u001b[1;33m(\u001b[0m\u001b[1;36m764\u001b[0m\u001b[1;33m)\u001b[0m\u001b[1;33m\u001b[0m\u001b[1;33m\u001b[0m\u001b[0m\n\u001b[0m",
      "\u001b[1;31mTypeError\u001b[0m: Can't instantiate abstract class ContaInvestimento with abstract method passa_o_mes"
     ]
    }
   ],
   "metadata": {}
  },
  {
   "cell_type": "code",
   "execution_count": null,
   "source": [
    "# array, evitaremos usar\r\n",
    "\r\n",
    "import array as arr\r\n",
    "\r\n",
    "arr.array('d',[1,3.5]) # diferente da lista, o array no python otimiza os valores dentro da lista e é preciso especificar o tipo de array.\r\n",
    "# Não podendo misturar varios tipos(comportamento igual da tupla)\r\n"
   ],
   "outputs": [
    {
     "output_type": "execute_result",
     "data": {
      "text/plain": [
       "array('d', [1.0, 3.5])"
      ]
     },
     "metadata": {},
     "execution_count": 33
    }
   ],
   "metadata": {}
  },
  {
   "cell_type": "code",
   "execution_count": 43,
   "source": [
    "class ContaSalario():\r\n",
    "    def __init__(self, codigo):\r\n",
    "        self._codigo = codigo\r\n",
    "        self._saldo = 0\r\n",
    "\r\n",
    "    def __eq__(self,outro): # posso mudar a relaçao de igualdade de uma classe \r\n",
    "        if type(outro) != ContaSalario:\r\n",
    "            return False\r\n",
    "        return self._codigo == outro._codigo and self._saldo == outro._saldo\r\n",
    "\r\n",
    "    def deposita(self, valor):\r\n",
    "        self._saldo += valor\r\n",
    "    \r\n",
    "    def __str__(self):\r\n",
    "        return f\"Codigo {self._codigo} Saldo {self._saldo}\"\r\n",
    "\r\n",
    "class ContaMultiploSalario(ContaSalario):\r\n",
    "    pass\r\n",
    "conta1 = ContaSalario(37)\r\n",
    "print(conta1)\r\n",
    "\r\n",
    "conta2 = ContaSalario(37)\r\n",
    "print(conta2)\r\n",
    "\r\n",
    "conta1 == conta2 # referencias distintas \r\n",
    "\r\n",
    "contas = [conta1]\r\n",
    "conta1 in contas "
   ],
   "outputs": [
    {
     "output_type": "stream",
     "name": "stdout",
     "text": [
      "Codigo 37 Saldo 0\n",
      "Codigo 37 Saldo 0\n"
     ]
    },
    {
     "output_type": "execute_result",
     "data": {
      "text/plain": [
       "True"
      ]
     },
     "metadata": {},
     "execution_count": 43
    }
   ],
   "metadata": {}
  },
  {
   "cell_type": "code",
   "execution_count": 23,
   "source": [
    "# Sequencia de elementos \r\n",
    "\r\n",
    "idades = [15, 87, 65, 56, 32, 49, 37]\r\n",
    "\r\n",
    "# range(len(idades)) # lazy , so vai ser avaliado a partir da chamada\r\n",
    "for i in range(len(idades)):\r\n",
    "    print(i, idades[i])\r\n",
    "\r\n",
    "\r\n",
    "enumerate(idades) # tambem é lazy \r\n",
    "\r\n",
    "# passando um list, a gente força a geração dessa chamada\r\n",
    "list(range(len(idades))) # ou [enumerate(idades)]\r\n",
    "list(enumerate(idades)) # ou [enumerate(idades)]\r\n",
    "\r\n",
    "for valor in enumerate(idades):\r\n",
    "    print(valor)\r\n",
    "\r\n",
    "for indice, idade in enumerate(idades): # desempacotar\r\n",
    "    print(f\"{indice} e {idade}\")\r\n",
    "\r\n",
    "usuarios = [(\"Guilherme\", 37, 1981), (\"Daniela\", 31, 1987), (\"Paulo\", 39, 1979)]\r\n",
    "\r\n",
    "for nome, _, _  in usuarios: # ja desempacotando e ignorando o resto\r\n",
    "    print(nome)\r\n",
    "\r\n",
    "# ou \r\n",
    "\r\n",
    "for nome, idade, nascimento in usuarios:\r\n",
    "    print(nome)"
   ],
   "outputs": [
    {
     "output_type": "stream",
     "name": "stdout",
     "text": [
      "0 15\n",
      "1 87\n",
      "2 65\n",
      "3 56\n",
      "4 32\n",
      "5 49\n",
      "6 37\n",
      "(0, 15)\n",
      "(1, 87)\n",
      "(2, 65)\n",
      "(3, 56)\n",
      "(4, 32)\n",
      "(5, 49)\n",
      "(6, 37)\n",
      "0 e 15\n",
      "1 e 87\n",
      "2 e 65\n",
      "3 e 56\n",
      "4 e 32\n",
      "5 e 49\n",
      "6 e 37\n",
      "Guilherme\n",
      "Daniela\n",
      "Paulo\n",
      "Guilherme\n",
      "Daniela\n",
      "Paulo\n"
     ]
    }
   ],
   "metadata": {}
  },
  {
   "cell_type": "code",
   "execution_count": 34,
   "source": [
    "print(idades)\r\n",
    "print(sorted(idades))\r\n",
    "\r\n",
    "print(list(reversed(idades)))\r\n",
    "print(sorted(idades, reverse=True)) # sorted ja devolve uma lista\r\n",
    "print(list(reversed(sorted(idades)))) # metodo lazy, precisa ser passado para uma lista\r\n",
    "idades.sort()\r\n",
    "idades\r\n"
   ],
   "outputs": [
    {
     "output_type": "stream",
     "name": "stdout",
     "text": [
      "[15, 32, 37, 49, 56, 65, 87]\n",
      "[15, 32, 37, 49, 56, 65, 87]\n",
      "[87, 65, 56, 49, 37, 32, 15]\n",
      "[87, 65, 56, 49, 37, 32, 15]\n",
      "[87, 65, 56, 49, 37, 32, 15]\n"
     ]
    },
    {
     "output_type": "execute_result",
     "data": {
      "text/plain": [
       "[15, 32, 37, 49, 56, 65, 87]"
      ]
     },
     "metadata": {},
     "execution_count": 34
    }
   ],
   "metadata": {}
  },
  {
   "cell_type": "code",
   "execution_count": 63,
   "source": [
    "# ordenação \r\n",
    "\r\n",
    "idades\r\n",
    "15 < 32 \r\n",
    "nomes = [\"Guilherme\",\"Daniela\",\"Paulo\"]\r\n",
    "sorted(nomes)\r\n",
    "\r\n",
    "# mas como funciona em uma class \r\n",
    "class ContaSalario:\r\n",
    "    def __init__(self,codigo):\r\n",
    "        self._codigo = codigo\r\n",
    "        self._saldo = 0\r\n",
    "    def __eq__(self, outro):\r\n",
    "        if type(outro) != ContaSalario:\r\n",
    "            return False\r\n",
    "        return self._codigo == outro._codigo and self._saldo == outro._saldo\r\n",
    "    def deposita(self, valor):\r\n",
    "        self._saldo += valor\r\n",
    "    \r\n",
    "    def __str__(self):\r\n",
    "        return f\"Codigo {self._codigo} e Saldo {self._saldo}\"\r\n",
    "\r\n",
    "    def __lt__(self,outro):\r\n",
    "        return self._saldo < outro._saldo\r\n",
    "\r\n",
    "conta_do_gui = ContaSalario(17)\r\n",
    "conta_do_gui.deposita(500)\r\n",
    "\r\n",
    "conta_da_daniela = ContaSalario(3)\r\n",
    "conta_da_daniela.deposita(1000)\r\n",
    "\r\n",
    "conta_do_paulo = ContaSalario(133)\r\n",
    "conta_do_paulo.deposita(510)\r\n",
    "\r\n",
    "contas = [conta_do_gui, conta_da_daniela, conta_do_paulo]\r\n",
    "\r\n",
    "for conta in contas:\r\n",
    "    print(conta)\r\n",
    "\r\n",
    "# ordenação das contas\r\n",
    "\"\"\"\r\n",
    "# Não é a melhor maneira\r\n",
    "\r\n",
    "def extrai_saldo(conta):\r\n",
    "    return conta._saldo\r\n",
    "\r\n",
    "for conta in sorted(contas, key=extrai_saldo):\r\n",
    "    print(conta)\r\n",
    "\"\"\"\r\n",
    "\r\n",
    "from operator import attrgetter\r\n",
    "\r\n",
    "for conta in sorted(contas, key=attrgetter(\"_saldo\")):\r\n",
    "    print(conta)\r\n",
    "\r\n",
    "conta_do_gui < conta_da_daniela\r\n",
    "conta_do_gui > conta_da_daniela\r\n",
    "\r\n",
    "sorted(contas)\r\n",
    "for conta in sorted(contas, reverse=True):\r\n",
    "    print(conta)\r\n"
   ],
   "outputs": [
    {
     "output_type": "stream",
     "name": "stdout",
     "text": [
      "Codigo 17 e Saldo 500\n",
      "Codigo 3 e Saldo 1000\n",
      "Codigo 133 e Saldo 510\n",
      "Codigo 17 e Saldo 500\n",
      "Codigo 133 e Saldo 510\n",
      "Codigo 3 e Saldo 1000\n",
      "Codigo 3 e Saldo 1000\n",
      "Codigo 133 e Saldo 510\n",
      "Codigo 17 e Saldo 500\n"
     ]
    }
   ],
   "metadata": {}
  },
  {
   "cell_type": "code",
   "execution_count": 68,
   "source": [
    "from functools import total_ordering\r\n",
    "\r\n",
    "conta_do_gui = ContaSalario(1700)\r\n",
    "conta_do_gui.deposita(500)\r\n",
    "\r\n",
    "conta_da_daniela = ContaSalario(3)\r\n",
    "conta_da_daniela.deposita(1000)\r\n",
    "\r\n",
    "conta_do_paulo = ContaSalario(133)\r\n",
    "conta_do_paulo.deposita(500)\r\n",
    "\r\n",
    "contas = [conta_do_gui, conta_da_daniela, conta_do_paulo]\r\n",
    "print(contas)\r\n",
    "\r\n",
    "for conta in sorted(contas, key=attrgetter(\"_saldo\", \"_codigo\")):\r\n",
    "    print(conta)\r\n",
    "\r\n",
    "@total_ordering\r\n",
    "class ContaSalario:\r\n",
    "    def __init__(self,codigo):\r\n",
    "        self._codigo = codigo\r\n",
    "        self._saldo = 0\r\n",
    "    def __eq__(self, outro):\r\n",
    "        if type(outro) != ContaSalario:\r\n",
    "            return False\r\n",
    "        return self._codigo == outro._codigo and self._saldo == outro._saldo\r\n",
    "    def deposita(self, valor):\r\n",
    "        self._saldo += valor\r\n",
    "    \r\n",
    "    def __str__(self):\r\n",
    "        return f\"Codigo {self._codigo} e Saldo {self._saldo}\"\r\n",
    "\r\n",
    "    def __lt__(self,outro):\r\n",
    "        if self._saldo != outro._saldo:\r\n",
    "            return self._saldo < outro._saldo \r\n",
    "        return self._codigo < outro._codigo\r\n",
    "\r\n",
    "     \r\n",
    "\r\n",
    "conta_do_gui = ContaSalario(1700)\r\n",
    "conta_do_gui.deposita(500)\r\n",
    "\r\n",
    "conta_da_daniela = ContaSalario(3)\r\n",
    "conta_da_daniela.deposita(1000)\r\n",
    "\r\n",
    "conta_do_paulo = ContaSalario(133)\r\n",
    "conta_do_paulo.deposita(500)\r\n",
    "\r\n",
    "contas = [conta_do_paulo, conta_do_gui, conta_da_daniela]\r\n",
    "\r\n",
    "for conta in sorted(contas):\r\n",
    "    print(conta)\r\n"
   ],
   "outputs": [
    {
     "output_type": "stream",
     "name": "stdout",
     "text": [
      "[<__main__.ContaSalario object at 0x0000020EFD66E160>, <__main__.ContaSalario object at 0x0000020EFD66EA60>, <__main__.ContaSalario object at 0x0000020EFD66E9D0>]\n",
      "Codigo 133 e Saldo 500\n",
      "Codigo 1700 e Saldo 500\n",
      "Codigo 3 e Saldo 1000\n",
      "Codigo 133 e Saldo 500\n",
      "Codigo 1700 e Saldo 500\n",
      "Codigo 3 e Saldo 1000\n"
     ]
    }
   ],
   "metadata": {}
  }
 ],
 "metadata": {
  "orig_nbformat": 4,
  "language_info": {
   "name": "python",
   "version": "3.9.6",
   "mimetype": "text/x-python",
   "codemirror_mode": {
    "name": "ipython",
    "version": 3
   },
   "pygments_lexer": "ipython3",
   "nbconvert_exporter": "python",
   "file_extension": ".py"
  },
  "kernelspec": {
   "name": "python3",
   "display_name": "Python 3.9.6 64-bit"
  },
  "interpreter": {
   "hash": "86b8d54e23acd62ae0afd56a257cc43973efd002b6e1dafe09c32756ffa9fd96"
  }
 },
 "nbformat": 4,
 "nbformat_minor": 2
}