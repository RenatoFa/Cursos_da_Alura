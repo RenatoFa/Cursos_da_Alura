{
 "metadata": {
  "language_info": {
   "codemirror_mode": {
    "name": "ipython",
    "version": 3
   },
   "file_extension": ".py",
   "mimetype": "text/x-python",
   "name": "python",
   "nbconvert_exporter": "python",
   "pygments_lexer": "ipython3",
   "version": "3.9.4"
  },
  "orig_nbformat": 2,
  "kernelspec": {
   "name": "python394jvsc74a57bd0c2b3abf6d670b167a7800de4a4d7df1ea29b52069aeae0aa93dd388ab97e5124",
   "display_name": "Python 3.9.4 64-bit"
  },
  "metadata": {
   "interpreter": {
    "hash": "59c40af6cc02a538ae6540521954950f6b6dbe78aca7f6d1b4570e33a47f3918"
   }
  }
 },
 "nbformat": 4,
 "nbformat_minor": 2,
 "cells": [
  {
   "source": [
    "# Hello World\n",
    "print('Hello World')"
   ],
   "cell_type": "code",
   "metadata": {},
   "execution_count": 27,
   "outputs": [
    {
     "output_type": "stream",
     "name": "stdout",
     "text": [
      "Hello World\n"
     ]
    }
   ]
  },
  {
   "source": [
    "# Variavel em Python \n",
    "message = 'Hello Python World'\n",
    "print(message)\n",
    "\n",
    "message = 'Hello Python Crash Course World!'\n",
    "print(message)"
   ],
   "cell_type": "code",
   "metadata": {},
   "execution_count": 28,
   "outputs": [
    {
     "output_type": "stream",
     "name": "stdout",
     "text": [
      "Hello Python World\nHello Python Crash Course World!\n"
     ]
    }
   ]
  },
  {
   "source": [
    "# Variavel em Python com Erro\n",
    "message = 'Hello Python'\n",
    "# print(mesage)\n",
    "print(message)"
   ],
   "cell_type": "code",
   "metadata": {},
   "execution_count": 29,
   "outputs": [
    {
     "output_type": "stream",
     "name": "stdout",
     "text": [
      "Hello Python\n"
     ]
    }
   ]
  },
  {
   "source": [
    "# Armazene uma frase e exiba \n",
    "message = 'i know language python'\n",
    "print(message)"
   ],
   "cell_type": "code",
   "metadata": {},
   "execution_count": 30,
   "outputs": [
    {
     "output_type": "stream",
     "name": "stdout",
     "text": [
      "i know language python\n"
     ]
    }
   ]
  },
  {
   "source": [
    "# Armazene um frase , exiba e depois mude a frase de novo\n",
    "message = 'i like language python'\n",
    "print(message)\n",
    "\n",
    "message = 'i like beer'\n",
    "print(message)"
   ],
   "cell_type": "code",
   "metadata": {},
   "execution_count": 31,
   "outputs": [
    {
     "output_type": "stream",
     "name": "stdout",
     "text": [
      "i like language python\ni like beer\n"
     ]
    }
   ]
  },
  {
   "cell_type": "code",
   "execution_count": 32,
   "metadata": {},
   "outputs": [
    {
     "output_type": "stream",
     "name": "stdout",
     "text": [
      "Ada Loveace\n"
     ]
    }
   ],
   "source": [
    "# String em Python, title() metodo para primeira letra maiúscula\n",
    "name = 'ada loveace'\n",
    "print(name.title())"
   ]
  },
  {
   "cell_type": "code",
   "execution_count": 33,
   "metadata": {},
   "outputs": [
    {
     "output_type": "stream",
     "name": "stdout",
     "text": [
      "ADA LOVELACE\nada lovelace\n"
     ]
    }
   ],
   "source": [
    "# String em Python, metodos para tratar letras maiusculas e minusculas\n",
    "name = 'Ada Lovelace'\n",
    "print(name.upper()) # tudo com letra maiusculas\n",
    "print(name.lower()) # tudo com letra minusculas\n"
   ]
  },
  {
   "cell_type": "code",
   "execution_count": 34,
   "metadata": {},
   "outputs": [
    {
     "output_type": "stream",
     "name": "stdout",
     "text": [
      "ada lovelace\n"
     ]
    }
   ],
   "source": [
    "# Combinando ou concatenando strings\n",
    "first_name = 'ada'\n",
    "last_name = 'lovelace'\n",
    "full_name = first_name + \" \" + last_name\n",
    "print(full_name)"
   ]
  },
  {
   "cell_type": "code",
   "execution_count": 37,
   "metadata": {},
   "outputs": [
    {
     "output_type": "stream",
     "name": "stdout",
     "text": [
      "Hello, Ada Lovelace!\nHello, Ada Lovelace!\n"
     ]
    }
   ],
   "source": [
    "# Outro exemplo de concatenação \n",
    "first_name = 'ada'\n",
    "last_name = 'lovelace'\n",
    "full_name = first_name + ' ' + last_name\n",
    "print('Hello, ' + full_name.title() + '!' )\n",
    "message = 'Hello, ' + full_name.title() + '!' \n",
    "print(message)\n",
    "\n"
   ]
  },
  {
   "source": [
    "# Tabulação no Python \n",
    "print('Python')\n",
    "print('\\tPython')\n",
    "\n",
    "# Quebra de Linha no Python\n",
    "print('Languages:\\nPython\\nC\\nJavaScript')"
   ],
   "cell_type": "code",
   "metadata": {},
   "execution_count": null,
   "outputs": []
  },
  {
   "cell_type": "code",
   "execution_count": 40,
   "metadata": {},
   "outputs": [
    {
     "output_type": "stream",
     "name": "stdout",
     "text": [
      "Languages:\n\tPython\n\tC\n\tJavaScript\n"
     ]
    }
   ],
   "source": [
    "# Combinação de tabulação e quebra de linha \n",
    "print('Languages:\\n\\tPython\\n\\tC\\n\\tJavaScript')"
   ]
  },
  {
   "cell_type": "code",
   "execution_count": 46,
   "metadata": {},
   "outputs": [
    {
     "output_type": "stream",
     "name": "stdout",
     "text": [
      "python \npython\npython\npython\npython\n"
     ]
    }
   ],
   "source": [
    "# Eliminar espaço em branco do lado direito em uma string com o metodo rstring de forma temporaria\n",
    "favorite_language = 'python '\n",
    "print(favorite_language)\n",
    "print(favorite_language.rstrip())\n",
    "\n",
    "# Eliminar espaço em branco do lado direito em uma string com o metodo rstring de forma permanente\n",
    "favorite_language = 'python '\n",
    "favorite_language = favorite_language.rstrip()\n",
    "print(favorite_language)\n",
    "\n",
    "# Eliminar espaço em branco do lado esquerdo em uma string com o metodo rstring de forma permanente\n",
    "favorite_language = ' python'\n",
    "favorite_language = favorite_language.lstrip()\n",
    "print(favorite_language)\n",
    "\n",
    "# Eliminar espaço em branco dos dois lados de uma string com o metodo rstring de forma permanente\n",
    "favorite_language = ' python '\n",
    "favorite_language = favorite_language.strip()\n",
    "print(favorite_language)"
   ]
  },
  {
   "cell_type": "code",
   "execution_count": null,
   "metadata": {},
   "outputs": [],
   "source": []
  }
 ]
}