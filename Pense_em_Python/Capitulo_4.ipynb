{
 "metadata": {
  "language_info": {
   "codemirror_mode": {
    "name": "ipython",
    "version": 3
   },
   "file_extension": ".py",
   "mimetype": "text/x-python",
   "name": "python",
   "nbconvert_exporter": "python",
   "pygments_lexer": "ipython3",
   "version": "3.9.4"
  },
  "orig_nbformat": 2,
  "kernelspec": {
   "name": "python3",
   "display_name": "Python 3.9.4 64-bit"
  },
  "metadata": {
   "interpreter": {
    "hash": "4cd7ab41f5fca4b9b44701077e38c5ffd31fe66a6cab21e0214b68d958d0e462"
   }
  },
  "interpreter": {
   "hash": "4cd7ab41f5fca4b9b44701077e38c5ffd31fe66a6cab21e0214b68d958d0e462"
  }
 },
 "nbformat": 4,
 "nbformat_minor": 2,
 "cells": [
  {
   "source": [
    "# Modulo Turtle\n",
    "import turtle\n",
    "\n",
    "bob = turtle.Turtle()"
   ],
   "cell_type": "markdown",
   "metadata": {}
  },
  {
   "source": [
    "# Modulo Turtle\n",
    "import turtle\n",
    "bob = turtle.Turtle()\n",
    "print(bob)\n",
    "turtle.mainloop()"
   ],
   "cell_type": "markdown",
   "metadata": {}
  },
  {
   "source": [
    "# Modulo Turtle\n",
    "# Mover o Turtle\n",
    "import turtle\n",
    "bob = turtle.Turtle()\n",
    "bob.fd(100)\n",
    "bob.lt(90)\n",
    "bob.fd(100)\n",
    "bob.lt(90)\n",
    "bob.fd(100)\n",
    "bob.lt(90)\n",
    "bob.fd(100)\n",
    "turtle.mainloop()\n",
    "\n"
   ],
   "cell_type": "markdown",
   "metadata": {}
  },
  {
   "source": [
    "# Função Range\n",
    "for i in range(4):\n",
    "    print('Hello!!')"
   ],
   "cell_type": "markdown",
   "metadata": {}
  },
  {
   "source": [
    "# Modulo Turtle e Função Range\n",
    "import turtle\n",
    "bob = turtle.Turtle()\n",
    "for i in range(4):\n",
    "    bob.fd(100)\n",
    "    bob.lt(90)\n",
    "turtle.mainloop()"
   ],
   "cell_type": "markdown",
   "metadata": {}
  },
  {
   "source": [
    "# Exercicios do Capitulo 4 \n",
    "# 1) Primeiro exercicio: escreva uma função chamada square que receba um parametro chamado t, que é um turtle\n",
    "# Ela deve usar o turtle para desenhar um quadrado. \n",
    "import turtle \n",
    "\n",
    "def square(t):\n",
    "    t = turtle.Turtle()\n",
    "    for i in range(4):\n",
    "        t.fd(100)\n",
    "        t.lt(90)\n",
    "bob = None\n",
    "square(bob)"
   ],
   "cell_type": "markdown",
   "metadata": {}
  },
  {
   "source": [
    "# Exercicios do Capitulo 4 \n",
    "# 2) Acrescente outro parametro, chamado length, ao square.Altere o corpo para que o comprimento\n",
    "# dos lados seja length e então altere a chamada da função para fornecer um segundo argumento\n",
    "# Execute o programa novamente. Teste o seu programa com uma variadade de valores para length\n",
    "import turtle\n",
    "\n",
    "def square(t,length):\n",
    "    t = turtle.Turtle()\n",
    "    for i in range(4):\n",
    "        t.fd(length)\n",
    "        t.lt(length)\n",
    "bob = None\n",
    "square(bob,300)        \n"
   ],
   "cell_type": "markdown",
   "metadata": {}
  },
  {
   "source": [
    "# 3) Faça uma cópia do square e mude o nome para polygon. Acrescente outro parämetro chamado n e altere o corpo para que desenhe um polígono regular de n lados\n",
    "\n",
    "import turtle\n",
    "\n",
    "def polygon(t,length,n):\n",
    "    t = turtle.Turtle()\n",
    "    for i in range(n):\n",
    "        turtle.forward(length)\n",
    "        turtle.right(360 / n)\n",
    "\n",
    "bob = None\n",
    "polygon(bob,300,10)\n"
   ],
   "cell_type": "markdown",
   "metadata": {}
  },
  {
   "source": [
    "# 4) Escreva uma função chamada circle que use o turtle, t e um raio r como parametros e desenhe um circulo aproximado\n",
    "# ao chamar polygon com um comprimento e numero de lados adequados. Teste a sua função com uma série de valores de r. \n",
    "# Dica: descubra a circunferencia do circulo e certifique-se de que lenght * n = circunference\n",
    "import turtle\n",
    "import math\n",
    "\n",
    "bob = None\n",
    "def square(bob, lenght):\n",
    "    bob = turtle.Turtle()\n",
    "    for i in range(4):\n",
    "        bob.fd(lenght)\n",
    "        bob.lt(90)\n",
    "\n",
    "\n",
    "def polygon(t, n, lenght):\n",
    "    t = turtle.Turtle()\n",
    "    angle = 360/n\n",
    "    for i in range(n):\n",
    "        t.fd(lenght)\n",
    "        t.lt(angle)\n",
    "\n",
    "def circle(t,r):\n",
    "    t = turtle.Turtle()\n",
    "    circunference = 2 * math.pi * r\n",
    "    n = int(circunference/3) + 1\n",
    "    lenght = circunference / n \n",
    "    polygon(t,n,lenght)\n",
    "\n",
    "def arc(t, r, angle):\n",
    "    t = turtle.Turtle()\n",
    "    arc_length = 2 * math.pi * r * angle / 360\n",
    "    n = int(arc_length/3) + 1\n",
    "    step_length = arc_length / n\n",
    "    step_angle = angle/n\n",
    "    for i in range(n):\n",
    "        t.fd(step_length)\n",
    "        t.lt(step_angle)\n",
    "\n",
    "arc(bob, 100, 100)\n"
   ],
   "cell_type": "markdown",
   "metadata": {}
  },
  {
   "source": [
    "# 5) Generalização do polygon, arc e circle\n",
    "import turtle\n",
    "import math\n",
    "\n",
    "bob = None\n",
    "\n",
    "def polyline(t, n, length, angle):\n",
    "    t = turtle.Turtle()\n",
    "    for i in range(n):\n",
    "        t.fd(length)\n",
    "        t.lt(angle)\n",
    "def polygon(t, n, length):\n",
    "    angle = 360/n\n",
    "    polyline(t, n, length, angle)\n",
    "\n",
    "def arc(t,r,angle):\n",
    "    t = turtle.Turtle()\n",
    "    arc_length = 2 * math.pi * r * angle/360\n",
    "    n = int(arc_length/3) + 1 \n",
    "    step_length = arc_length/n \n",
    "    step_angle = float(angle)/n \n",
    "    polyline(t, n, step_length, step_angle)\n",
    "\n",
    "arc(10,20,20)"
   ],
   "cell_type": "markdown",
   "metadata": {}
  },
  {
   "source": [
    "# 6) Podemos reescrever polygon e arc usar polyline\n",
    "import turtle\n",
    "import math\n",
    "\n",
    "def polyline(t,n,lenght,angle):\n",
    "    for i in range(n):\n",
    "        t.fd(lenght)\n",
    "        t.lt(angle)\n",
    "\n",
    "def polygon(t,n,lenght):\n",
    "    angle = 360.00/n\n",
    "    polyline(t,n,lenght,angle)\n",
    "\n",
    "def arc(t,r,angle):\n",
    "    arc_lenght = 2 * math.pi * r * angle/360\n",
    "    n = int(arc_lenght/3) + 1\n",
    "    step_lenght = arc_lenght/n\n",
    "    step_angle = float(angle)/n\n",
    "    polyline(t,n,step_lenght,step_angle)\n",
    "\n",
    "def circle(t,r):\n",
    "    arc(t,r,360)"
   ],
   "cell_type": "markdown",
   "metadata": {}
  },
  {
   "source": [
    "# Conceito de DOCSTRING: é uma string no inicio de uma função que explica\n",
    "# Demonstração de uma Docstring\n",
    "def polyline(t,n,lenght,angle):\n",
    "    \"\"\"\n",
    "    Desenha n segmentos de reta com o comprimento dado e ãngulo (em graus) entre eles. t é um turtle\n",
    "    \"\"\"\n",
    "    for i in range(n):\n",
    "        t.fd(lenght)\n",
    "        t.lt(angle)"
   ],
   "cell_type": "code",
   "metadata": {},
   "execution_count": null,
   "outputs": []
  }
 ]
}